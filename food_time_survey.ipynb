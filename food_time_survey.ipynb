{
 "cells": [
  {
   "cell_type": "markdown",
   "id": "c442b139-2d2b-4744-91dd-f78e421258ea",
   "metadata": {},
   "source": [
    "### Importing Pandas and reading the csv file"
   ]
  },
  {
   "cell_type": "code",
   "execution_count": 87,
   "id": "e82c1213-93c5-4f71-a793-573ae359c0a9",
   "metadata": {},
   "outputs": [],
   "source": [
    "import pandas as pd\n",
    "df = pd.read_csv(\"D:\\\\Python_Projects\\\\data\\\\Food Time.csv\")"
   ]
  },
  {
   "cell_type": "markdown",
   "id": "b5a6a668-1cb4-4e49-a011-e8704fafee1e",
   "metadata": {},
   "source": [
    "### Occurrence of time (For Breakfast) "
   ]
  },
  {
   "cell_type": "code",
   "execution_count": 91,
   "id": "e4d55291-4640-4dba-974e-eee19c4371e0",
   "metadata": {},
   "outputs": [
    {
     "data": {
      "text/plain": [
       " When do you take your breakfast?\n",
       "7 to 9 AM                              9\n",
       "9 to 11 AM                             5\n",
       "The breakfast enters the lunch time    4\n",
       "Before 7 AM                            2\n",
       "Name: count, dtype: int64"
      ]
     },
     "execution_count": 91,
     "metadata": {},
     "output_type": "execute_result"
    }
   ],
   "source": [
    "df[\" When do you take your breakfast?\"].value_counts()"
   ]
  },
  {
   "cell_type": "markdown",
   "id": "d2b7db9b-d1a9-4b72-8d2c-58b102ef6352",
   "metadata": {},
   "source": [
    "### Occurrence of time (For Lunch)"
   ]
  },
  {
   "cell_type": "code",
   "execution_count": 95,
   "id": "05d246b4-b2d4-474a-a20d-a3d792310415",
   "metadata": {},
   "outputs": [
    {
     "data": {
      "text/plain": [
       " When do you take your lunch?\n",
       "1 PM to 3 PM                   13\n",
       "3 PM to 4 PM                    6\n",
       "The lunch time exceeds 4 PM     1\n",
       "Name: count, dtype: int64"
      ]
     },
     "execution_count": 95,
     "metadata": {},
     "output_type": "execute_result"
    }
   ],
   "source": [
    "df[\" When do you take your lunch?\"].value_counts()"
   ]
  },
  {
   "cell_type": "markdown",
   "id": "d18d2159-97d7-4399-b5b8-785b3011d64a",
   "metadata": {},
   "source": [
    "### Occurrence of time (For Dinner)"
   ]
  },
  {
   "cell_type": "code",
   "execution_count": 98,
   "id": "00bfc9f4-8957-4b3f-a367-853447e4cdc1",
   "metadata": {},
   "outputs": [
    {
     "data": {
      "text/plain": [
       " When do you take your dinner?\n",
       "10 PM to 11 PM                   14\n",
       "The dinner time exceeds 11 PM     5\n",
       "9 PM to 10 PM                     1\n",
       "Name: count, dtype: int64"
      ]
     },
     "execution_count": 98,
     "metadata": {},
     "output_type": "execute_result"
    }
   ],
   "source": [
    "df[\" When do you take your dinner?\"].value_counts()"
   ]
  }
 ],
 "metadata": {
  "kernelspec": {
   "display_name": "Python 3 (ipykernel)",
   "language": "python",
   "name": "python3"
  },
  "language_info": {
   "codemirror_mode": {
    "name": "ipython",
    "version": 3
   },
   "file_extension": ".py",
   "mimetype": "text/x-python",
   "name": "python",
   "nbconvert_exporter": "python",
   "pygments_lexer": "ipython3",
   "version": "3.12.4"
  }
 },
 "nbformat": 4,
 "nbformat_minor": 5
}
